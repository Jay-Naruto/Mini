{
 "cells": [
  {
   "cell_type": "code",
   "execution_count": 2,
   "id": "foreign-zoning",
   "metadata": {},
   "outputs": [
    {
     "name": "stdout",
     "output_type": "stream",
     "text": [
      "Collecting pytesseract"
     ]
    },
    {
     "name": "stderr",
     "output_type": "stream",
     "text": [
      "ERROR: Could not find a version that satisfies the requirement cv2 (from versions: none)\n",
      "ERROR: No matching distribution found for cv2\n"
     ]
    },
    {
     "name": "stdout",
     "output_type": "stream",
     "text": [
      "\n",
      "  Using cached pytesseract-0.3.7-py2.py3-none-any.whl\n",
      "Collecting datetime\n",
      "  Downloading DateTime-4.3-py2.py3-none-any.whl (60 kB)\n"
     ]
    }
   ],
   "source": [
    "!pip install pytesseract datetime cv2 numpy"
   ]
  },
  {
   "cell_type": "code",
   "execution_count": null,
   "id": "computational-somalia",
   "metadata": {},
   "outputs": [],
   "source": [
    "import pytesseract\n",
    "from PIL import Image\n",
    "import datetime\n",
    "import cv2\n",
    "import sys\n",
    "import os\n",
    "import os.path\n",
    "import re\n",
    "import numpy as np\n",
    "\n",
    "\n",
    "\n",
    "# class to extract text from an image where the image file is passed as an argument\n",
    "class Text_Extractor():\n",
    "    # Constructor\n",
    "    def __init__(self, image_file):\n",
    "        self.image_file = image_file\n",
    "        if self is None:\n",
    "            return 0\n",
    "\n",
    "    # Function to extract the text from image as string\n",
    "    def extract_text(self):\n",
    "        # img=Image.open(self.image_file)\n",
    "        img = cv2.imread(self.image_file)\n",
    "        # resize the image\n",
    "        img = cv2.resize(img, None, fx=2, fy=2, interpolation=cv2.INTER_CUBIC)\n",
    "        # convert the image to gray\n",
    "        img = cv2.cvtColor(img, cv2.COLOR_BGR2GRAY)\n",
    "        # the following command uses the tesseract directory path to get the trained data in the config option\n",
    "        text = pytesseract.image_to_string(img,\n",
    "                                           config='--tessdata-dir \"/usr/local/Cellar/tesseract/4.0.0_1/share/tessdata\"')\n",
    "        return text\n",
    "\n",
    "\n",
    "# class to validate if  an image is a adhar card where the text is passed as an argument\n",
    "class Aadhar_Card_Validator():\n",
    "    # Constructor\n",
    "    def __init__(self, text):\n",
    "        self.text = text\n",
    "\n",
    "    # Function to validate if an image contains text showing its an aadhar card\n",
    "    def is_aadhar_card(self):\n",
    "        res = self.text.split()\n",
    "        dates = {}\n",
    "        if 'GOVERNMENT OF INDIA' in self.text:\n",
    "            print(\"Aadhar card is valid and the details are below:\")\n",
    "            index = res.index('INDIA')\n",
    "            name = ''\n",
    "            if res[index + 3].isalpha():\n",
    "                name = res[index + 3] + \" \" + res[index + 4] + \" \" + res[index + 5]\n",
    "            else:\n",
    "                name = res[index + 4] + \" \" + res[index + 5] + \" \" + res[index + 6]\n",
    "        else:\n",
    "            name = res[0] + \" \" + res[1]\n",
    "        if len(name) > 1:\n",
    "            print(\"Name:  \" + name)\n",
    "        else:\n",
    "            print(\"Name not read\")\n",
    "        p = re.compile('d+/d+/d+')\n",
    "        if (p.findall(self.text)):\n",
    "            dates = p.findall(self.text)\n",
    "\n",
    "        if len(dates) > 0 and len(dates[0]) > 1:\n",
    "            print(\"Date of birth:\" + str(dates[0]))\n",
    "        aadhar_number = ''\n",
    "        for word in res:\n",
    "            if 'yob' in word.lower():\n",
    "                yob = re.findall('d+', word)\n",
    "                if yob:\n",
    "                    print('Year of Birth: ' + yob[0])\n",
    "            if len(word) == 4 and word.isdigit():\n",
    "                aadhar_number = aadhar_number + word + ' '\n",
    "        if len(aadhar_number) >= 14:\n",
    "            print(\"Aadhar number is :\" + aadhar_number)\n",
    "        else:\n",
    "            print(\"Aadhar number not read\")\n",
    "            print(\"Try again or try  another file\")\n",
    "\n",
    "\n",
    "def main():\n",
    "    if len(sys.argv) != 2:\n",
    "        print(\"Wrong number of arguments\")\n",
    "        sys.exit(1)\n",
    "    image_file_name = sys.argv[1]\n",
    "    # Check for right infilename extension.\n",
    "    file_ext = os.path.splitext(image_file_name)[1]\n",
    "    if file_ext.upper() not in ('.JPG', '.PNG'):\n",
    "        print(\"Input filename extension should be .JPG or .PNG\")\n",
    "        sys.exit(1)\n",
    "    te = Text_Extractor(image_file_name)\n",
    "    text = te.extract_text()\n",
    "    acv = Aadhar_Card_Validator(text)\n",
    "    acv.is_aadhar_card()\n",
    "\n",
    "\n",
    "main()"
   ]
  }
 ],
 "metadata": {
  "kernelspec": {
   "display_name": "Python 3",
   "language": "python",
   "name": "python3"
  },
  "language_info": {
   "codemirror_mode": {
    "name": "ipython",
    "version": 3
   },
   "file_extension": ".py",
   "mimetype": "text/x-python",
   "name": "python",
   "nbconvert_exporter": "python",
   "pygments_lexer": "ipython3",
   "version": "3.7.3"
  }
 },
 "nbformat": 4,
 "nbformat_minor": 5
}
